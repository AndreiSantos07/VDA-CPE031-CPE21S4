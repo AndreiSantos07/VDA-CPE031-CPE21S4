{
  "nbformat": 4,
  "nbformat_minor": 0,
  "metadata": {
    "colab": {
      "provenance": [],
      "authorship_tag": "ABX9TyPgsdBHq0ORL1ba/OFoo8kK",
      "include_colab_link": true
    },
    "kernelspec": {
      "name": "python3",
      "display_name": "Python 3"
    },
    "language_info": {
      "name": "python"
    }
  },
  "cells": [
    {
      "cell_type": "markdown",
      "metadata": {
        "id": "view-in-github",
        "colab_type": "text"
      },
      "source": [
        "<a href=\"https://colab.research.google.com/github/AndreiSantos07/VDA-CPE031-CPE21S4/blob/main/Exercise_2_Challenge_.ipynb\" target=\"_parent\"><img src=\"https://colab.research.google.com/assets/colab-badge.svg\" alt=\"Open In Colab\"/></a>"
      ]
    },
    {
      "cell_type": "code",
      "execution_count": 2,
      "metadata": {
        "colab": {
          "base_uri": "https://localhost:8080/"
        },
        "id": "YLRTJtr4OzQt",
        "outputId": "67eb4a37-b0a6-4a7f-f659-adc5f0d14e64"
      },
      "outputs": [
        {
          "output_type": "stream",
          "name": "stdout",
          "text": [
            "This is the original data frame: \n",
            "   0   1   2\n",
            "0  0   4   8\n",
            "1  1   5   9\n",
            "2  2   6  10\n",
            "3  5  10  15\n",
            "\n",
            "This is now the new data frame: \n",
            "   0  1   2\n",
            "2  2  6  10\n"
          ]
        }
      ],
      "source": [
        "#How are you going to delete indices no 0, 1, 3 leaving only 2?\n",
        "\n",
        "import pandas as pd\n",
        "\n",
        "s1 = pd.Series([0,4,8])\n",
        "s2 = pd.Series([1,5,9])\n",
        "s3 = pd.Series([2,6,10])\n",
        "s4 = pd.Series([5,10,15])\n",
        "\n",
        "dframe = pd.DataFrame([s1, s2, s3, s4], index = [0,1,2,3], columns = [0, 1, 2])\n",
        "print(\"This is the original data frame: \")\n",
        "print(dframe)\n",
        "\n",
        "\n",
        "dframe = dframe.drop([0,1,3])\n",
        "print(\"\\nThis is now the new data frame: \")\n",
        "print(dframe)\n"
      ]
    }
  ]
}
