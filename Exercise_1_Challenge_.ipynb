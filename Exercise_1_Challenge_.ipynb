{
  "nbformat": 4,
  "nbformat_minor": 0,
  "metadata": {
    "colab": {
      "provenance": [],
      "authorship_tag": "ABX9TyMNTxt7uH7ERgYBgHvo3+Zg",
      "include_colab_link": true
    },
    "kernelspec": {
      "name": "python3",
      "display_name": "Python 3"
    },
    "language_info": {
      "name": "python"
    }
  },
  "cells": [
    {
      "cell_type": "markdown",
      "metadata": {
        "id": "view-in-github",
        "colab_type": "text"
      },
      "source": [
        "<a href=\"https://colab.research.google.com/github/AndreiSantos07/VDA-CPE031-CPE21S4/blob/main/Exercise_1_Challenge_.ipynb\" target=\"_parent\"><img src=\"https://colab.research.google.com/assets/colab-badge.svg\" alt=\"Open In Colab\"/></a>"
      ]
    },
    {
      "cell_type": "code",
      "execution_count": 2,
      "metadata": {
        "colab": {
          "base_uri": "https://localhost:8080/"
        },
        "id": "kWUbogD8LQbQ",
        "outputId": "8b61b08d-d7dc-4436-8016-4f176abec99e"
      },
      "outputs": [
        {
          "output_type": "stream",
          "name": "stdout",
          "text": [
            "[0, 0, 1, 1, 0, 0, 0, 1]\n"
          ]
        }
      ],
      "source": [
        "import numpy as np\n",
        "\n",
        "def coin_flip(num):\n",
        "  for i in range(num):\n",
        "    yield np.random.randint(0,2)\n",
        "print([var for var in coin_flip(8)])"
      ]
    },
    {
      "cell_type": "markdown",
      "source": [
        "Description\n",
        "1. I defined it as coin_flip(num)\n",
        "2. I use for loop, and use i as the holder of the variable\n",
        "3. I used the yield since it shows the returning the result one by one, instead of returning the results once.\n",
        "4. now the third line consist of how it will generate number starting from 0 to 1 only, limiting its number since it is only heads or tails.\n",
        "5. Lastly, showing to print wihtin the List, and flipping the coin 8 times.\n"
      ],
      "metadata": {
        "id": "QoEkdCKVLo2M"
      }
    }
  ]
}