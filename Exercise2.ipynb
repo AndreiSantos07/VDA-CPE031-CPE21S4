{
  "nbformat": 4,
  "nbformat_minor": 0,
  "metadata": {
    "colab": {
      "provenance": [],
      "authorship_tag": "ABX9TyNgPW7pAOuvKfPPEEO4hyvi",
      "include_colab_link": true
    },
    "kernelspec": {
      "name": "python3",
      "display_name": "Python 3"
    },
    "language_info": {
      "name": "python"
    }
  },
  "cells": [
    {
      "cell_type": "markdown",
      "metadata": {
        "id": "view-in-github",
        "colab_type": "text"
      },
      "source": [
        "<a href=\"https://colab.research.google.com/github/AndreiSantos07/VDA-CPE031-CPE21S4/blob/main/Exercise2.ipynb\" target=\"_parent\"><img src=\"https://colab.research.google.com/assets/colab-badge.svg\" alt=\"Open In Colab\"/></a>"
      ]
    },
    {
      "cell_type": "markdown",
      "source": [
        "EXAMPLE   1"
      ],
      "metadata": {
        "id": "gG34hGZ-N9mH"
      }
    },
    {
      "cell_type": "code",
      "execution_count": 24,
      "metadata": {
        "colab": {
          "base_uri": "https://localhost:8080/"
        },
        "id": "bKKh0myxyB69",
        "outputId": "676a2788-9cca-45b6-91ab-4dac525cedc7"
      },
      "outputs": [
        {
          "output_type": "stream",
          "name": "stdout",
          "text": [
            "  animals  height\n",
            "0     Cat      13\n",
            "1     Dog      17\n",
            "2  Rabbit       8\n"
          ]
        }
      ],
      "source": [
        "import pandas\n",
        "\n",
        "mydataset = {'animals': [\"Cat\", \"Dog\", \"Rabbit\"],\n",
        "              'height': [13, 17, 8]\n",
        "             }\n",
        "\n",
        "myvar = pandas.DataFrame(mydataset)\n",
        "\n",
        "print(myvar)"
      ]
    },
    {
      "cell_type": "markdown",
      "source": [
        "EXAMPLE   2"
      ],
      "metadata": {
        "id": "mTqLEV4XOBE-"
      }
    },
    {
      "cell_type": "code",
      "source": [
        "import pandas as pd\n",
        "a = [1,7,2]\n",
        "myvar = pd.Series(a)\n",
        "print(myvar)"
      ],
      "metadata": {
        "colab": {
          "base_uri": "https://localhost:8080/"
        },
        "id": "aAc2GQQz23w_",
        "outputId": "c42e193a-aece-4350-f8ce-221c46329eb1"
      },
      "execution_count": 23,
      "outputs": [
        {
          "output_type": "stream",
          "name": "stdout",
          "text": [
            "0    1\n",
            "1    7\n",
            "2    2\n",
            "dtype: int64\n"
          ]
        }
      ]
    },
    {
      "cell_type": "markdown",
      "source": [
        "EXAMPLE   3"
      ],
      "metadata": {
        "id": "S2WI2sFdOEyI"
      }
    },
    {
      "cell_type": "code",
      "source": [
        "import pandas as pd\n",
        "a = [1.5, 7.5, 2.5]\n",
        "myvar = pd.Series(a)\n",
        "print(myvar[0])"
      ],
      "metadata": {
        "colab": {
          "base_uri": "https://localhost:8080/"
        },
        "id": "IJuAOB_26t-O",
        "outputId": "077f60d4-3456-42ca-b9f1-d9cdbb3b1f08"
      },
      "execution_count": 22,
      "outputs": [
        {
          "output_type": "stream",
          "name": "stdout",
          "text": [
            "1.5\n"
          ]
        }
      ]
    },
    {
      "cell_type": "markdown",
      "source": [
        "EXAMPLE   4"
      ],
      "metadata": {
        "id": "xZbXBjnHOF8_"
      }
    },
    {
      "cell_type": "code",
      "source": [
        "import pandas as pd\n",
        "data = {\n",
        "  \"age\": [42, 38, 39],\n",
        "  \"weight\": [50, 40, 45]\n",
        "}\n",
        "myvar = pd.DataFrame(data)\n",
        "print(myvar.loc[0])\n",
        "print(myvar.loc[[0,1]])\n",
        "print(myvar.loc[[0,1,2]])"
      ],
      "metadata": {
        "colab": {
          "base_uri": "https://localhost:8080/"
        },
        "id": "DP5PObwO7thF",
        "outputId": "57caf23a-f6a3-4bc6-e3cb-eb1ed517fbe8"
      },
      "execution_count": 38,
      "outputs": [
        {
          "output_type": "stream",
          "name": "stdout",
          "text": [
            "age       42\n",
            "weight    50\n",
            "Name: 0, dtype: int64\n",
            "   age  weight\n",
            "0   42      50\n",
            "1   38      40\n",
            "   age  weight\n",
            "0   42      50\n",
            "1   38      40\n",
            "2   39      45\n"
          ]
        }
      ]
    },
    {
      "cell_type": "markdown",
      "source": [
        "EXAMPLE 5"
      ],
      "metadata": {
        "id": "ZWy53EaIOH8v"
      }
    },
    {
      "cell_type": "code",
      "source": [
        "import pandas as pd\n",
        "# This is series using data frames\n",
        "s1 = pd.Series([0,4,8])\n",
        "s2 = pd.Series([1,5,9])\n",
        "s3 = pd.Series([2,6,10])\n",
        "s4 = pd.Series([5,10,15])\n",
        "\n",
        "dframe = pd.DataFrame([s1,s2,s3])\n",
        "df = dframe.drop([0])\n",
        "print(dframe)\n",
        "\n"
      ],
      "metadata": {
        "colab": {
          "base_uri": "https://localhost:8080/"
        },
        "id": "V3-8me2T851r",
        "outputId": "858647d8-f87a-409d-9f10-d9508d6d583d"
      },
      "execution_count": 43,
      "outputs": [
        {
          "output_type": "stream",
          "name": "stdout",
          "text": [
            "   0  1   2\n",
            "0  0  4   8\n",
            "1  1  5   9\n",
            "2  2  6  10\n"
          ]
        }
      ]
    },
    {
      "cell_type": "code",
      "source": [
        "import pandas as pd\n",
        "\n",
        "s1 = pd.Series([0,4,8])\n",
        "s2 = pd.Series([1,5,9])\n",
        "s3 = pd.Series([2,6,10])\n",
        "s4 = pd.Series([5,10,15])\n",
        "\n",
        "dframe = pd.DataFrame([s1, s2, s3, s4], index = [0,1,2,3], columns = [0, 1, 2,3])\n",
        "print(dframe)"
      ],
      "metadata": {
        "colab": {
          "base_uri": "https://localhost:8080/"
        },
        "id": "2aMzJIqmEUa4",
        "outputId": "50cd7584-c6c1-462f-ac3d-bcf9d2f02863"
      },
      "execution_count": 50,
      "outputs": [
        {
          "output_type": "stream",
          "name": "stdout",
          "text": [
            "     0     1     2   3\n",
            "0  0.0   4.0   8.0 NaN\n",
            "1  1.0   5.0   9.0 NaN\n",
            "2  2.0   6.0  10.0 NaN\n",
            "3  5.0  10.0  15.0 NaN\n"
          ]
        }
      ]
    },
    {
      "cell_type": "code",
      "source": [
        "# 1.How are you going to delete indices no 0, 1, 3 leaving only all items in index 2"
      ],
      "metadata": {
        "id": "PNPcBc4LGVN2"
      },
      "execution_count": 52,
      "outputs": []
    },
    {
      "cell_type": "code",
      "source": [
        "#CHALLENGE!"
      ],
      "metadata": {
        "id": "Tu-X8atBHkJC"
      },
      "execution_count": 51,
      "outputs": []
    },
    {
      "cell_type": "code",
      "source": [
        "import pandas as pd\n",
        "\n",
        "s1 = pd.Series([0,4,8])\n",
        "s2 = pd.Series([1,5,9])\n",
        "s3 = pd.Series([2,6,10])\n",
        "s4 = pd.Series([5,10,15])\n",
        "\n",
        "dframe = pd.DataFrame([s1, s2, s3, s4], index = [0,1,2,3], columns = [0, 1, 2])\n",
        "print(\"This is the original data frame: \")\n",
        "print(dframe)\n",
        "\n",
        "\n",
        "dframe = dframe.drop([0,1,3])\n",
        "print(\"\\nThis is now the new data frame: \")\n",
        "print(dframe)\n",
        "\n"
      ],
      "metadata": {
        "colab": {
          "base_uri": "https://localhost:8080/"
        },
        "id": "4z9_rJA9Hl9W",
        "outputId": "a813be24-37bf-44b4-af66-0330311f1fd7"
      },
      "execution_count": 63,
      "outputs": [
        {
          "output_type": "stream",
          "name": "stdout",
          "text": [
            "This is the original data frame: \n",
            "   0   1   2\n",
            "0  0   4   8\n",
            "1  1   5   9\n",
            "2  2   6  10\n",
            "3  5  10  15\n",
            "\n",
            "This is now the new data frame: \n",
            "   0  1   2\n",
            "2  2  6  10\n"
          ]
        }
      ]
    }
  ]
}